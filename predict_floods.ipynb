{
 "cells": [
  {
   "cell_type": "markdown",
   "metadata": {},
   "source": [
    "# UNICEF Arm 2030 Vision #1: Flood Prediction in Malawi\n",
    "\n",
    "The objective of this challenge is to build a machine learning model that helps predict the location and extent of floods in southern Malawi.\n",
    "\n",
    "https://zindi.africa/competitions/2030-vision-flood-prediction-in-malawi"
   ]
  },
  {
   "cell_type": "markdown",
   "metadata": {},
   "source": [
    "# Plan\n",
    "\n",
    "I. Initialization\n",
    "\n",
    "1. Imports\n",
    "\n",
    "2. Global settings\n",
    "\n",
    "2. Load databases\n",
    "\n",
    "3. Instantiate object Analysis\n",
    "\n",
    "\n",
    "II. Analysis\n",
    "\n",
    "1. Overview\n",
    "\n",
    "2. Analysis by features\n",
    "\n",
    "\n",
    "III. Pre-process data\n",
    "\n",
    "1. Impute NaNs\n",
    "\n",
    "2. Remove outliers\n",
    "\n",
    "3. Feature engineer\n",
    "\n",
    "4. Transform categorical features\n",
    "\n",
    "\n",
    "V. Analysis on clean data\n",
    "\n",
    "1. Observe correlations\n",
    "\n",
    "\n",
    "VI. Predict\n",
    "\n",
    "1. Prepare data, tools, model\n",
    "\n",
    "2. Train model\n",
    "\n",
    "3. Test model\n",
    "\n",
    "4. Benchmarks"
   ]
  },
  {
   "cell_type": "markdown",
   "metadata": {},
   "source": [
    "## Imports"
   ]
  },
  {
   "cell_type": "code",
   "execution_count": 4,
   "metadata": {},
   "outputs": [],
   "source": [
    "# System\n",
    "import importlib\n",
    "\n",
    "# Data\n",
    "import numpy as np\n",
    "import pandas as pd\n",
    "\n",
    "# Graphs\n",
    "import seaborn as sns\n",
    "\n",
    "# Analysis\n",
    "import cobratools as cobra\n",
    "\n",
    "# ML\n",
    "import torch\n",
    "from torch.utils.data import Dataset, DataLoader\n",
    "from torch.nn import Linear\n",
    "from torch.nn import functional as F\n",
    "from torch import nn, optim"
   ]
  },
  {
   "cell_type": "markdown",
   "metadata": {},
   "source": [
    "## Settings"
   ]
  },
  {
   "cell_type": "code",
   "execution_count": null,
   "metadata": {},
   "outputs": [],
   "source": []
  },
  {
   "cell_type": "markdown",
   "metadata": {},
   "source": [
    "## Load Data"
   ]
  },
  {
   "cell_type": "code",
   "execution_count": 5,
   "metadata": {},
   "outputs": [],
   "source": [
    "data = pd.read_csv(filepath_or_buffer='data/Train.csv',\n",
    "                                            sep=',',\n",
    "                                            low_memory=False,\n",
    "                                            error_bad_lines=False)"
   ]
  },
  {
   "cell_type": "markdown",
   "metadata": {},
   "source": [
    "## Reorganize Data"
   ]
  },
  {
   "cell_type": "code",
   "execution_count": 12,
   "metadata": {},
   "outputs": [
    {
     "output_type": "execute_result",
     "data": {
      "text/plain": "       X      Y  target_2015   elevation  precip 2014-11-16 - 2014-11-23  \\\n0  34.26 -15.91          0.0  887.764222                             0.0   \n1  34.26 -15.90          0.0  743.403912                             0.0   \n2  34.26 -15.89          0.0  565.728343                             0.0   \n3  34.26 -15.88          0.0  443.392774                             0.0   \n4  34.26 -15.87          0.0  437.443428                             0.0   \n\n   precip 2014-11-23 - 2014-11-30  precip 2014-11-30 - 2014-12-07  \\\n0                             0.0                             0.0   \n1                             0.0                             0.0   \n2                             0.0                             0.0   \n3                             0.0                             0.0   \n4                             0.0                             0.0   \n\n   precip 2014-12-07 - 2014-12-14  precip 2014-12-14 - 2014-12-21  \\\n0                       14.844025                       14.552823   \n1                       14.844025                       14.552823   \n2                       14.844025                       14.552823   \n3                       14.844025                       14.552823   \n4                       14.844025                       14.552823   \n\n   precip 2014-12-21 - 2014-12-28  ...  precip 2019-03-24 - 2019-03-31  \\\n0                       12.237766  ...                        0.896323   \n1                       12.237766  ...                        0.896323   \n2                       12.237766  ...                        0.896323   \n3                       12.237766  ...                        0.896323   \n4                       12.237766  ...                        0.896323   \n\n   precip 2019-03-31 - 2019-04-07  precip 2019-04-07 - 2019-04-14  \\\n0                            1.68                             0.0   \n1                            1.68                             0.0   \n2                            1.68                             0.0   \n3                            1.68                             0.0   \n4                            1.68                             0.0   \n\n   precip 2019-04-14 - 2019-04-21  precip 2019-04-21 - 2019-04-28  \\\n0                             0.0                             0.0   \n1                             0.0                             0.0   \n2                             0.0                             0.0   \n3                             0.0                             0.0   \n4                             0.0                             0.0   \n\n   precip 2019-04-28 - 2019-05-05  precip 2019-05-05 - 2019-05-12  \\\n0                             0.0                             0.0   \n1                             0.0                             0.0   \n2                             0.0                             0.0   \n3                             0.0                             0.0   \n4                             0.0                             0.0   \n\n   precip 2019-05-12 - 2019-05-19  LC_Type1_mode  \\\n0                             0.0              9   \n1                             0.0              9   \n2                             0.0              9   \n3                             0.0             10   \n4                             0.0             10   \n\n                              Square_ID  \n0  4e3c3896-14ce-11ea-bce5-f49634744a41  \n1  4e3c3897-14ce-11ea-bce5-f49634744a41  \n2  4e3c3898-14ce-11ea-bce5-f49634744a41  \n3  4e3c3899-14ce-11ea-bce5-f49634744a41  \n4  4e3c389a-14ce-11ea-bce5-f49634744a41  \n\n[5 rows x 40 columns]",
      "text/html": "<div>\n<style scoped>\n    .dataframe tbody tr th:only-of-type {\n        vertical-align: middle;\n    }\n\n    .dataframe tbody tr th {\n        vertical-align: top;\n    }\n\n    .dataframe thead th {\n        text-align: right;\n    }\n</style>\n<table border=\"1\" class=\"dataframe\">\n  <thead>\n    <tr style=\"text-align: right;\">\n      <th></th>\n      <th>X</th>\n      <th>Y</th>\n      <th>target_2015</th>\n      <th>elevation</th>\n      <th>precip 2014-11-16 - 2014-11-23</th>\n      <th>precip 2014-11-23 - 2014-11-30</th>\n      <th>precip 2014-11-30 - 2014-12-07</th>\n      <th>precip 2014-12-07 - 2014-12-14</th>\n      <th>precip 2014-12-14 - 2014-12-21</th>\n      <th>precip 2014-12-21 - 2014-12-28</th>\n      <th>...</th>\n      <th>precip 2019-03-24 - 2019-03-31</th>\n      <th>precip 2019-03-31 - 2019-04-07</th>\n      <th>precip 2019-04-07 - 2019-04-14</th>\n      <th>precip 2019-04-14 - 2019-04-21</th>\n      <th>precip 2019-04-21 - 2019-04-28</th>\n      <th>precip 2019-04-28 - 2019-05-05</th>\n      <th>precip 2019-05-05 - 2019-05-12</th>\n      <th>precip 2019-05-12 - 2019-05-19</th>\n      <th>LC_Type1_mode</th>\n      <th>Square_ID</th>\n    </tr>\n  </thead>\n  <tbody>\n    <tr>\n      <th>0</th>\n      <td>34.26</td>\n      <td>-15.91</td>\n      <td>0.0</td>\n      <td>887.764222</td>\n      <td>0.0</td>\n      <td>0.0</td>\n      <td>0.0</td>\n      <td>14.844025</td>\n      <td>14.552823</td>\n      <td>12.237766</td>\n      <td>...</td>\n      <td>0.896323</td>\n      <td>1.68</td>\n      <td>0.0</td>\n      <td>0.0</td>\n      <td>0.0</td>\n      <td>0.0</td>\n      <td>0.0</td>\n      <td>0.0</td>\n      <td>9</td>\n      <td>4e3c3896-14ce-11ea-bce5-f49634744a41</td>\n    </tr>\n    <tr>\n      <th>1</th>\n      <td>34.26</td>\n      <td>-15.90</td>\n      <td>0.0</td>\n      <td>743.403912</td>\n      <td>0.0</td>\n      <td>0.0</td>\n      <td>0.0</td>\n      <td>14.844025</td>\n      <td>14.552823</td>\n      <td>12.237766</td>\n      <td>...</td>\n      <td>0.896323</td>\n      <td>1.68</td>\n      <td>0.0</td>\n      <td>0.0</td>\n      <td>0.0</td>\n      <td>0.0</td>\n      <td>0.0</td>\n      <td>0.0</td>\n      <td>9</td>\n      <td>4e3c3897-14ce-11ea-bce5-f49634744a41</td>\n    </tr>\n    <tr>\n      <th>2</th>\n      <td>34.26</td>\n      <td>-15.89</td>\n      <td>0.0</td>\n      <td>565.728343</td>\n      <td>0.0</td>\n      <td>0.0</td>\n      <td>0.0</td>\n      <td>14.844025</td>\n      <td>14.552823</td>\n      <td>12.237766</td>\n      <td>...</td>\n      <td>0.896323</td>\n      <td>1.68</td>\n      <td>0.0</td>\n      <td>0.0</td>\n      <td>0.0</td>\n      <td>0.0</td>\n      <td>0.0</td>\n      <td>0.0</td>\n      <td>9</td>\n      <td>4e3c3898-14ce-11ea-bce5-f49634744a41</td>\n    </tr>\n    <tr>\n      <th>3</th>\n      <td>34.26</td>\n      <td>-15.88</td>\n      <td>0.0</td>\n      <td>443.392774</td>\n      <td>0.0</td>\n      <td>0.0</td>\n      <td>0.0</td>\n      <td>14.844025</td>\n      <td>14.552823</td>\n      <td>12.237766</td>\n      <td>...</td>\n      <td>0.896323</td>\n      <td>1.68</td>\n      <td>0.0</td>\n      <td>0.0</td>\n      <td>0.0</td>\n      <td>0.0</td>\n      <td>0.0</td>\n      <td>0.0</td>\n      <td>10</td>\n      <td>4e3c3899-14ce-11ea-bce5-f49634744a41</td>\n    </tr>\n    <tr>\n      <th>4</th>\n      <td>34.26</td>\n      <td>-15.87</td>\n      <td>0.0</td>\n      <td>437.443428</td>\n      <td>0.0</td>\n      <td>0.0</td>\n      <td>0.0</td>\n      <td>14.844025</td>\n      <td>14.552823</td>\n      <td>12.237766</td>\n      <td>...</td>\n      <td>0.896323</td>\n      <td>1.68</td>\n      <td>0.0</td>\n      <td>0.0</td>\n      <td>0.0</td>\n      <td>0.0</td>\n      <td>0.0</td>\n      <td>0.0</td>\n      <td>10</td>\n      <td>4e3c389a-14ce-11ea-bce5-f49634744a41</td>\n    </tr>\n  </tbody>\n</table>\n<p>5 rows × 40 columns</p>\n</div>"
     },
     "metadata": {},
     "execution_count": 12
    }
   ],
   "source": [
    "# Current data structuration\n",
    "data.head()"
   ]
  },
  {
   "cell_type": "code",
   "execution_count": null,
   "metadata": {},
   "outputs": [],
   "source": [
    "# New data structuration\n",
    "\n",
    "# 2 Data Tables\n",
    "\n",
    "# Square_ID | Date | Pos_X | Pos_Y | Precipitation | Elevation | LC_Type1 \n",
    "# --------- | ---- | ----- | ----- | --------------| --------- | --------\n",
    "# id1       | J    |        \n",
    "# id1       | J-1  |          ...\n",
    "# ...       | ...  |\n",
    "# id1       | J-n  |\n",
    "# id2       | J    |\n",
    "# ...       | ...  |\n",
    "# id2       | J-n  |\n",
    "# ...\n",
    "\n",
    "# This enables the addition of almost infinite number of older dates,\n",
    "# by appending new rows to the database, contrarily to the current\n",
    "# data structuration, that would require the addition of an equal \n",
    "# number of columns, ie. is not scalable.\n",
    "\n",
    "# However it is adding a work overload, and requires more complex\n",
    "# queries to view and modify data."
   ]
  },
  {
   "cell_type": "code",
   "execution_count": null,
   "metadata": {},
   "outputs": [],
   "source": [
    "# Plan\n",
    "\n",
    "I. Initialization\n",
    "\n",
    "1. Import packages, classes, functions\n",
    "\n",
    "2. Global settings\n",
    "\n",
    "2. Load databases\n",
    "\n",
    "3. Instantiate object Analysis\n",
    "\n",
    "\n",
    "II. Analysis\n",
    "\n",
    "1. Overview\n",
    "\n",
    "2. Analysis by features\n",
    "\n",
    "\n",
    "III. Pre-process data\n",
    "\n",
    "1. Impute NaNs\n",
    "\n",
    "2. Remove outliers\n",
    "\n",
    "3. Feature engineer\n",
    "\n",
    "4. Transform categorical features\n",
    "\n",
    "\n",
    "V. Analysis on clean data\n",
    "\n",
    "1. Observe correlations\n",
    "\n",
    "\n",
    "VI. Predict\n",
    "\n",
    "1. Prepare data, tools, model\n",
    "\n",
    "2. Train model\n",
    "\n",
    "3. Test model\n",
    "\n",
    "4. Benchmarks"
   ]
  }
 ],
 "metadata": {
  "language_info": {
   "codemirror_mode": {
    "name": "ipython",
    "version": 3
   },
   "file_extension": ".py",
   "mimetype": "text/x-python",
   "name": "python",
   "nbconvert_exporter": "python",
   "pygments_lexer": "ipython3",
   "version": "3.6.2-final"
  },
  "orig_nbformat": 2,
  "kernelspec": {
   "name": "python36264bitpytorchvirtualenv29a0ae40f378433b946244631d246247",
   "display_name": "Python 3.6.2 64-bit ('pytorch': virtualenv)"
  }
 },
 "nbformat": 4,
 "nbformat_minor": 2
}